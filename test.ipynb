{
 "cells": [
  {
   "cell_type": "code",
   "execution_count": 18,
   "metadata": {},
   "outputs": [],
   "source": [
    "import sympy as sp\n",
    "import time\n",
    "from initial_exploration_ross import *\n",
    "%matplotlib widget"
   ]
  },
  {
   "cell_type": "code",
   "execution_count": 19,
   "metadata": {},
   "outputs": [],
   "source": [
    "##########################\n",
    "### Initial conditions ###\n",
    "##########################\n",
    "\n",
    "mu_val = 0.01215057\n",
    "xl_list = find_lagrange_points(mu_val)\n",
    "xL1, xL2, xL3, (xL4, yL4), (xL5, yL5) = xl_list[1], xl_list[2], xl_list[0], (xl_list[3][0], xl_list[3][1]), (xl_list[4][0], xl_list[4][1])\n",
    "xL = xL1\n",
    "buffer = 0.5\n",
    "init_cond_vel = [xL, 0., 0., 0., 0., 0.]\n",
    "init_cond_cm = convert_vel_to_conj_mom(init_cond_vel.copy())\n",
    "init_cond_var = np.eye(6).reshape((36,)).tolist()\n",
    "\n",
    "# Get periodic orbit initial guess\n",
    "po_ic, po_period = get_po_ig(xL, mu_val, use_real=True, direction=True)\n"
   ]
  },
  {
   "cell_type": "code",
   "execution_count": 20,
   "metadata": {},
   "outputs": [],
   "source": [
    "################################\n",
    "### Setup ta_var propagation ###\n",
    "################################\n",
    "\n",
    "ta_var = get_ta_var(po_ic, ic_var=init_cond_var, conj_mom=False)\n",
    "\n",
    "nsteps = 2000\n",
    "epochs = np.linspace(0, po_period, nsteps)\n",
    "\n",
    "ta_var.pars[0] = mu_val\n",
    "ta_var.time = 0\n",
    "ta_var.state[:] = po_ic + np.eye(6).reshape((36,)).tolist()\n",
    "out2 = ta_var.propagate_grid(epochs)\n",
    "out2 = out2[5]"
   ]
  },
  {
   "cell_type": "code",
   "execution_count": 21,
   "metadata": {},
   "outputs": [],
   "source": [
    "#######################################\n",
    "### Perform differential correction ###\n",
    "#######################################\n",
    "\n",
    "ta_var, x0, err = diff_corr_phasing(ta_var, po_ic, tol=1e-12, max_iter=100)"
   ]
  },
  {
   "cell_type": "code",
   "execution_count": 22,
   "metadata": {},
   "outputs": [],
   "source": [
    "########################################################\n",
    "### Propagation of converged periodic Lyapunov orbit ###\n",
    "########################################################\n",
    "po_period_updated = ta_var.time\n",
    "timesteps = np.linspace(0, po_period_updated, 2000)\n",
    "ta_var.time = 0.\n",
    "ta_var.state[:] = x0.tolist() + init_cond_var\n",
    "out3 = ta_var.propagate_grid(timesteps)\n",
    "out3 = out3[5]\n"
   ]
  },
  {
   "cell_type": "code",
   "execution_count": 23,
   "metadata": {},
   "outputs": [
    {
     "name": "stdout",
     "output_type": "stream",
     "text": [
      "Something went wrong, decreasing variation from 0.001 to 0.0009090909090909091\n",
      "Something went wrong, decreasing variation from 0.0009090909090909091 to 0.0008264462809917355\n"
     ]
    },
    {
     "ename": "KeyboardInterrupt",
     "evalue": "",
     "output_type": "error",
     "traceback": [
      "\u001b[0;31m---------------------------------------------------------------------------\u001b[0m",
      "\u001b[0;31mKeyboardInterrupt\u001b[0m                         Traceback (most recent call last)",
      "Cell \u001b[0;32mIn[23], line 19\u001b[0m\n\u001b[1;32m     16\u001b[0m dx, taux, tauT \u001b[38;5;241m=\u001b[39m predictor_pseudoarc(ta_var, new_ic, new_T, variation)\n\u001b[1;32m     17\u001b[0m \u001b[38;5;28;01mtry\u001b[39;00m:\n\u001b[1;32m     18\u001b[0m     \u001b[38;5;66;03m#ta, curr_dX, curr_dT, err = diff_corr_pa(ta_var, new_ic, new_T, variation, dx, taux, tauT, tol=1e-15, max_iter=max_iter)\u001b[39;00m\n\u001b[0;32m---> 19\u001b[0m     ta, x0, err \u001b[38;5;241m=\u001b[39m \u001b[43mdiff_corr_phasing\u001b[49m\u001b[43m(\u001b[49m\u001b[43mta_var\u001b[49m\u001b[43m,\u001b[49m\u001b[43m \u001b[49m\u001b[43mnew_ic\u001b[49m\u001b[43m \u001b[49m\u001b[38;5;241;43m+\u001b[39;49m\u001b[43m \u001b[49m\u001b[43mdx\u001b[49m\u001b[43m[\u001b[49m\u001b[43m:\u001b[49m\u001b[38;5;241;43m6\u001b[39;49m\u001b[43m]\u001b[49m\u001b[43m)\u001b[49m\n\u001b[1;32m     20\u001b[0m     \u001b[38;5;28mprint\u001b[39m(\u001b[38;5;124m\"\u001b[39m\u001b[38;5;124mvariation:\u001b[39m\u001b[38;5;124m\"\u001b[39m, variation, \u001b[38;5;124m\"\u001b[39m\u001b[38;5;124merr:\u001b[39m\u001b[38;5;124m\"\u001b[39m, err)\n\u001b[1;32m     21\u001b[0m     \u001b[38;5;28;01mif\u001b[39;00m err \u001b[38;5;241m<\u001b[39m \u001b[38;5;241m1e-12\u001b[39m:\n",
      "File \u001b[0;32m~/code/3bpy/initial_exploration_ross.py:619\u001b[0m, in \u001b[0;36mdiff_corr_phasing\u001b[0;34m(ta, x0, tol, max_iter)\u001b[0m\n\u001b[1;32m    617\u001b[0m it \u001b[38;5;241m=\u001b[39m \u001b[38;5;241m0\u001b[39m\n\u001b[1;32m    618\u001b[0m \u001b[38;5;28;01mwhile\u001b[39;00m err \u001b[38;5;241m>\u001b[39m tol:\n\u001b[0;32m--> 619\u001b[0m     ta, x0, err \u001b[38;5;241m=\u001b[39m \u001b[43mcorrector_phasing\u001b[49m\u001b[43m(\u001b[49m\u001b[43mta\u001b[49m\u001b[43m,\u001b[49m\u001b[43m \u001b[49m\u001b[43mx0\u001b[49m\u001b[43m)\u001b[49m\n\u001b[1;32m    620\u001b[0m     it \u001b[38;5;241m+\u001b[39m\u001b[38;5;241m=\u001b[39m \u001b[38;5;241m1\u001b[39m\n\u001b[1;32m    621\u001b[0m     \u001b[38;5;28;01mif\u001b[39;00m it \u001b[38;5;241m>\u001b[39m max_iter:\n",
      "File \u001b[0;32m~/code/3bpy/initial_exploration_ross.py:547\u001b[0m, in \u001b[0;36mcorrector_phasing\u001b[0;34m(ta, x0)\u001b[0m\n\u001b[1;32m    545\u001b[0m ta\u001b[38;5;241m.\u001b[39mtime \u001b[38;5;241m=\u001b[39m \u001b[38;5;241m0.0\u001b[39m\n\u001b[1;32m    546\u001b[0m ta\u001b[38;5;241m.\u001b[39mstate[:] \u001b[38;5;241m=\u001b[39m x0\u001b[38;5;241m.\u001b[39mtolist() \u001b[38;5;241m+\u001b[39m np\u001b[38;5;241m.\u001b[39meye(\u001b[38;5;241m6\u001b[39m)\u001b[38;5;241m.\u001b[39mreshape((\u001b[38;5;241m36\u001b[39m,))\u001b[38;5;241m.\u001b[39mtolist()\n\u001b[0;32m--> 547\u001b[0m _ \u001b[38;5;241m=\u001b[39m \u001b[43mta\u001b[49m\u001b[38;5;241;43m.\u001b[39;49m\u001b[43mpropagate_until\u001b[49m\u001b[43m(\u001b[49m\u001b[43mperiod\u001b[49m\u001b[43m)\u001b[49m\n\u001b[1;32m    548\u001b[0m \u001b[38;5;66;03m# print(\"new error is:\", np.linalg.norm(ta.state[:6] - x0))\u001b[39;00m\n\u001b[1;32m    549\u001b[0m \u001b[38;5;28;01mreturn\u001b[39;00m ta, x0, np\u001b[38;5;241m.\u001b[39mlinalg\u001b[38;5;241m.\u001b[39mnorm(ta\u001b[38;5;241m.\u001b[39mstate[:\u001b[38;5;241m6\u001b[39m] \u001b[38;5;241m-\u001b[39m x0)\n",
      "\u001b[0;31mKeyboardInterrupt\u001b[0m: "
     ]
    }
   ],
   "source": [
    "#######################################################\n",
    "### Perform predictor-correction step and propagate ###\n",
    "#######################################################\n",
    "out = {}\n",
    "no_of_cont = 100\n",
    "# cont_param = 0\n",
    "variation = 1e-3\n",
    "max_iter = 100\n",
    "cont_type = 'pseudoarc'\n",
    "\n",
    "new_ic = copy.deepcopy(x0)\n",
    "new_T = copy.deepcopy(po_period_updated)\n",
    "\n",
    "for i in range(no_of_cont):\n",
    "\n",
    "    dx, taux, tauT = predictor_pseudoarc(ta_var, new_ic, new_T, variation)\n",
    "    try:\n",
    "        #ta, curr_dX, curr_dT, err = diff_corr_pa(ta_var, new_ic, new_T, variation, dx, taux, tauT, tol=1e-15, max_iter=max_iter)\n",
    "        ta, x0, err = diff_corr_phasing(ta_var, new_ic + dx[:6])\n",
    "        print(\"variation:\", variation, \"err:\", err)\n",
    "        if err < 1e-12:\n",
    "\n",
    "            new_ic += curr_dX\n",
    "            new_T += curr_dT\n",
    "            variation*=1.2\n",
    "            if variation >0.05:\n",
    "                variation=0.05\n",
    "        \n",
    "            # Propagate\n",
    "            timesteps = np.linspace(0, new_T, 2000)\n",
    "            ta_var.time = 0.0\n",
    "            ta_var.state[:] = new_ic.tolist() + init_cond_var\n",
    "            out[i] = ta_var.propagate_grid(timesteps)[5]\n",
    "        else:\n",
    "            print(f\"Low precision, decreasing variation from {variation} to {variation / 1.1}\")\n",
    "            variation /= 1.1\n",
    "    except RuntimeError:\n",
    "        print(f\"Something went wrong, decreasing variation from {variation} to {variation / 1.1}\")\n",
    "        variation /= 1.1"
   ]
  },
  {
   "cell_type": "raw",
   "metadata": {},
   "source": [
    "#######################################################\n",
    "### Perform predictor-correction step and propagate ###\n",
    "#######################################################\n",
    "out = {}\n",
    "no_of_cont = 100\n",
    "# cont_param = 0\n",
    "variation = 1e-3\n",
    "max_iter = 100\n",
    "cont_type = 'pseudoarc'\n",
    "for i in range(no_of_cont):\n",
    "    # ta_var, x0 = perform_predictor_corrector_step(ta_var, cont_param=0, with_phasing=True, tol=1e-12, variation=1e-6, direction=True)\n",
    "    # ta_var, x0 = perform_predictor_corrector_step( ta_var, (ta_var, cont_param, variation), (), predictor_func=predictor, corrector_func=corrector_phasing, tol=1e-12, direction=True,)\n",
    "    try:\n",
    "        ta_var, x0, err = perform_predictor_corrector_step(\n",
    "            ta_var,\n",
    "            cont_type,\n",
    "            # (cont_param, variation),\n",
    "            predictor_func_args=(x0, po_period_updated, variation),\n",
    "            corrector_func_args=(variation),\n",
    "            tol=1e-13,\n",
    "            direction=True,\n",
    "            max_iter=max_iter\n",
    "        )\n",
    "        print(\"variation:\", variation, \"err:\", err)\n",
    "        variation*=1.2\n",
    "        if variation >0.05:\n",
    "            variation=0.05\n",
    "        \n",
    "        # Propagate\n",
    "        timesteps = np.linspace(0, ta_var.time, 2000)\n",
    "        ta_var.time = 0.0\n",
    "        ta_var.state[:] = x0.tolist() + init_cond_var\n",
    "        out[i] = ta_var.propagate_grid(timesteps)[5]\n",
    "    except RuntimeError:\n",
    "        print(f\"Something went wrong, decreasing variation from {variation} to {variation / 1.1}\")\n",
    "        variation /= 1.1"
   ]
  },
  {
   "cell_type": "code",
   "execution_count": null,
   "metadata": {},
   "outputs": [],
   "source": [
    "out3[0:100:5,0]"
   ]
  },
  {
   "cell_type": "code",
   "execution_count": null,
   "metadata": {},
   "outputs": [],
   "source": [
    "################\n",
    "### Plotting ###\n",
    "################\n",
    "\n",
    "fig, ax = plt.subplots()\n",
    "# s/c trajectory\n",
    "# plt.plot(out[:, 0], out[:, 1], linestyle=\"--\", linewidth=1, c='k')\n",
    "# plt.scatter(out[-1, 0], out[-1, 1], s=5)\n",
    "plt.plot(out2[:, 0], out2[:, 1], linestyle=\"--\", linewidth=1, c='b')\n",
    "plt.scatter(out2[-1, 0], out2[-1, 1], s=5)\n",
    "ax.plot(out3[:, 0], out3[:, 1], linestyle=\"--\", linewidth=1, c='g')\n",
    "ax.scatter(out3[-1, 0], out3[-1, 1], s=5)\n",
    "for i in range(len(out.values())):\n",
    "    ax.plot(out[i][:, 0], out[i][:, 1], linestyle=\"-\", linewidth=1, c='g')\n",
    "    # ax.scatter(out[i][-1, 0], out[i][-1, 1], s=5)\n",
    "\n",
    "# # masses\n",
    "ax.scatter(-mu_val, 0, c=\"r\", s=20)  # m1\n",
    "ax.scatter(1 - mu_val, 0, c=\"r\", s=20)  # m2\n",
    "\n",
    "# # Lagrange points\n",
    "ax.scatter(xL, 0, c=\"k\", s=10)  # m2\n",
    "# # zero velocity curve\n",
    "plot_zero_vel_curves(ax, mu_val, x0, xL, buffer=buffer)\n",
    "\n",
    "ax.set_title(f\"Top-down view - mu: {mu_val} - Rotating frame\")\n",
    "ax.set_xlabel(\"x [AU]\")\n",
    "ax.set_ylabel(\"y [AU]\")\n",
    "ax.set_xlim([xL - buffer, xL + buffer])\n",
    "ax.set_ylim([0.0 - buffer, 0.0 + buffer])\n",
    "# ax.set_xlim([-1.5, 1.5])\n",
    "# ax.set_ylim([-1.5, 1.5])\n",
    "plt.tight_layout()\n",
    "\n",
    "plt.show()"
   ]
  },
  {
   "cell_type": "code",
   "execution_count": null,
   "metadata": {},
   "outputs": [],
   "source": []
  },
  {
   "cell_type": "code",
   "execution_count": null,
   "metadata": {},
   "outputs": [],
   "source": []
  }
 ],
 "metadata": {
  "kernelspec": {
   "display_name": "Python 3 (ipykernel)",
   "language": "python",
   "name": "python3"
  },
  "language_info": {
   "codemirror_mode": {
    "name": "ipython",
    "version": 3
   },
   "file_extension": ".py",
   "mimetype": "text/x-python",
   "name": "python",
   "nbconvert_exporter": "python",
   "pygments_lexer": "ipython3",
   "version": "3.12.7"
  }
 },
 "nbformat": 4,
 "nbformat_minor": 4
}
